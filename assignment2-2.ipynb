{
 "cells": [
  {
   "cell_type": "markdown",
   "metadata": {
    "deletable": false,
    "editable": false,
    "etc_identifier": "373a3605-5bda-4e1f-beef-04a0173d3f41",
    "nbgrader": {
     "cell_type": "markdown",
     "checksum": "ea942292eff37b50f364f842bcdd8ad9",
     "grade": false,
     "grade_id": "cell-a839e7b47494b4c3",
     "locked": true,
     "schema_version": 3,
     "solution": false
    }
   },
   "source": [
    "# Assignment 2\n",
    "\n",
    "For this assignment you'll be looking at 2017 data on immunizations from the CDC. Your datafile for this assignment is in [assets/NISPUF17.csv](assets/NISPUF17.csv). A data users guide for this, which you'll need to map the variables in the data to the questions being asked, is available at [assets/NIS-PUF17-DUG.pdf](assets/NIS-PUF17-DUG.pdf). **Note: you may have to go to your Jupyter tree (click on the Coursera image) and navigate to the assignment 2 assets folder to see this PDF file).**"
   ]
  },
  {
   "cell_type": "markdown",
   "metadata": {
    "deletable": false,
    "editable": false,
    "hideCode": false,
    "hidePrompt": false,
    "nbgrader": {
     "cell_type": "markdown",
     "checksum": "f85bd44672080d80abd2a7f47aa0f1be",
     "grade": false,
     "grade_id": "cell-58fc2e5938733f6a",
     "locked": true,
     "schema_version": 3,
     "solution": false
    }
   },
   "source": [
    "## Question 1\n",
    "Write a function called `proportion_of_education` which returns the proportion of children in the dataset who had a mother with the education levels equal to less than high school (<12), high school (12), more than high school but not a college graduate (>12) and college degree.\n",
    "\n",
    "*This function should return a dictionary in the form of (use the correct numbers, do not round numbers):* \n",
    "```\n",
    "    {\"less than high school\":0.2,\n",
    "    \"high school\":0.4,\n",
    "    \"more than high school but not college\":0.2,\n",
    "    \"college\":0.2}\n",
    "```"
   ]
  },
  {
   "cell_type": "code",
   "execution_count": 139,
   "metadata": {
    "deletable": false,
    "nbgrader": {
     "cell_type": "code",
     "checksum": "0ac58deb3f5ac988c643e903cbee7f3a",
     "grade": false,
     "grade_id": "cell-eea16d020eb52ae7",
     "locked": false,
     "schema_version": 3,
     "solution": true
    }
   },
   "outputs": [
    {
     "name": "stdout",
     "output_type": "stream",
     "text": [
      "ratios:  [0.10202002 0.17235201 0.24588091 0.47974706]\n",
      "{'less than high school': 0.10202002459160373, 'high school': 0.172352011241876, 'more than high school but not college': 0.24588090637625154, 'college': 0.47974705779026877}\n",
      "<class 'dict'>\n",
      "dict_keys(['less than high school', 'high school', 'more than high school but not college', 'college'])\n"
     ]
    }
   ],
   "source": [
    "import pandas as pd\n",
    "import numpy as np\n",
    "\n",
    "#Loading ds\n",
    "df = pd.read_csv('./assets/NISPUF17.csv')\n",
    "\n",
    "values = df['EDUC1'].value_counts().sort_index()\n",
    "\n",
    "#calculations\n",
    "ratios = values.values / sum(values.values)\n",
    "print('ratios: ', ratios)\n",
    "\n",
    "keys = ['less than high school', 'high school', 'more than high school but not college', 'college']\n",
    "\n",
    "#dictionary for mapping keys to ratios\n",
    "res = {key: ratio for key, ratio in zip(keys, ratios)}\n",
    "print(res)\n",
    "print(type(res))\n",
    "print(res.keys())\n",
    "\n",
    "def proportion_of_education():\n",
    "    keys = ['less than high school', 'high school', 'more than high school but not college', 'college']\n",
    "    res = {key: ratio for key, ratio in zip(keys, ratios)}\n",
    "    return res\n"
   ]
  },
  {
   "cell_type": "code",
   "execution_count": 55,
   "metadata": {
    "deletable": false,
    "editable": false,
    "hideCode": false,
    "hidePrompt": false,
    "nbgrader": {
     "cell_type": "code",
     "checksum": "ac5d91a24a7f72f66c25d242c3d24a50",
     "grade": true,
     "grade_id": "cell-c0eeef201366f51c",
     "locked": true,
     "points": 1,
     "schema_version": 3,
     "solution": false
    }
   },
   "outputs": [],
   "source": [
    "assert type(proportion_of_education())==type({}), \"You must return a dictionary.\"\n",
    "assert len(proportion_of_education()) == 4, \"You have not returned a dictionary with four items in it.\"\n",
    "assert \"less than high school\" in proportion_of_education().keys(), \"You have not returned a dictionary with the correct keys.\"\n",
    "assert \"high school\" in proportion_of_education().keys(), \"You have not returned a dictionary with the correct keys.\"\n",
    "assert \"more than high school but not college\" in proportion_of_education().keys(), \"You have not returned a dictionary with the correct keys.\"\n",
    "assert \"college\" in proportion_of_education().keys(), \"You have not returned a dictionary with the correct keys.\"\n"
   ]
  },
  {
   "cell_type": "markdown",
   "metadata": {
    "deletable": false,
    "editable": false,
    "nbgrader": {
     "cell_type": "markdown",
     "checksum": "562b78b7b9b79580269be0a3bebf4b42",
     "grade": false,
     "grade_id": "cell-8fcbb64516283f52",
     "locked": true,
     "schema_version": 3,
     "solution": false
    }
   },
   "source": [
    "## Question 2\n",
    "\n",
    "Let's explore the relationship between being fed breastmilk as a child and getting a seasonal influenza vaccine from a healthcare provider. Return a tuple of the average number of influenza vaccines for those children we know received breastmilk as a child and those who know did not.\n",
    "\n",
    "*This function should return a tuple in the form (use the correct numbers:*\n",
    "```\n",
    "(2.5, 0.1)\n",
    "```"
   ]
  },
  {
   "cell_type": "code",
   "execution_count": 140,
   "metadata": {
    "deletable": false,
    "nbgrader": {
     "cell_type": "code",
     "checksum": "a405d639063c4a6408365479f29c95c9",
     "grade": false,
     "grade_id": "cell-77f18c512324eabb",
     "locked": false,
     "schema_version": 3,
     "solution": true
    }
   },
   "outputs": [
    {
     "name": "stdout",
     "output_type": "stream",
     "text": [
      "Amount of breastfed kids: 24261\n",
      "Amount of kids not breastfed: 4085\n",
      "0        NaN\n",
      "1        NaN\n",
      "2        NaN\n",
      "3        3.0\n",
      "4        0.0\n",
      "        ... \n",
      "28460    NaN\n",
      "28461    NaN\n",
      "28462    NaN\n",
      "28463    NaN\n",
      "28464    NaN\n",
      "Name: P_NUMFLU, Length: 28465, dtype: float64\n",
      "0        0.0\n",
      "1        0.0\n",
      "2        0.0\n",
      "3        3.0\n",
      "4        0.0\n",
      "        ... \n",
      "28460    0.0\n",
      "28461    0.0\n",
      "28462    0.0\n",
      "28463    0.0\n",
      "28464    0.0\n",
      "Name: P_NUMFLU, Length: 28465, dtype: float64\n",
      "Average number of influenza vaccines for breastfed kids: 1.8799187420058687\n",
      "Average number of influenza vaccines for non breastfed kids: 1.5963945918878317\n"
     ]
    }
   ],
   "source": [
    "import pandas as pd\n",
    "import numpy as np\n",
    "\n",
    "# Load data:\n",
    "df = pd.read_csv('./assets/NISPUF17.csv')\n",
    "#print(df.head())\n",
    "\n",
    "#breastfeeding == yes - page 52\n",
    "#print(df['CBF_01'])\n",
    "df_bfy = df[df['CBF_01'] == 1]\n",
    "print('Amount of breastfed kids:', len(df_bfy))\n",
    "\n",
    "#breastfeeding == no\n",
    "df_bfn = df[df['CBF_01'] == 2]\n",
    "print('Amount of kids not breastfed:', len(df_bfn))\n",
    "\n",
    "#'P_NUMFLU' total number of seasonal influenza doses + fill missing values - replace with 0\n",
    "df_inf = df['P_NUMFLU']\n",
    "print(df_inf)\n",
    "df['P_NUMFLU'] = df['P_NUMFLU'].fillna(0)\n",
    "print(df['P_NUMFLU'])\n",
    "\n",
    "#separate for 2 groups based brestfed yes/no\n",
    "df_bf_vac = df_bfy['P_NUMFLU']\n",
    "df_nbf_vac = df_bfn['P_NUMFLU']\n",
    "\n",
    "#Calculations for each group\n",
    "avg_bf_vac = df_bf_vac.mean()\n",
    "avg_nbf_vac = df_nbf_vac.mean()\n",
    "\n",
    "#final conclusion and result \n",
    "print('Average number of influenza vaccines for breastfed kids:', avg_bf_vac)\n",
    "print('Average number of influenza vaccines for non breastfed kids:', avg_nbf_vac)\n",
    "\n",
    "def average_influenza_doses():\n",
    "    bf = avg_bf_vac\n",
    "    nbf = avg_nbf_vac\n",
    "    res = (bf, nbf)\n",
    "    return res\n",
    "    raise NotImplementedError()"
   ]
  },
  {
   "cell_type": "code",
   "execution_count": 108,
   "metadata": {
    "deletable": false,
    "editable": false,
    "nbgrader": {
     "cell_type": "code",
     "checksum": "19be955e97fdf7162d43fbb7c2c40951",
     "grade": true,
     "grade_id": "cell-54a3ba6cff31caa7",
     "locked": true,
     "points": 1,
     "schema_version": 3,
     "solution": false
    }
   },
   "outputs": [],
   "source": [
    "assert len(average_influenza_doses())==2, \"Return two values in a tuple, the first for yes and the second for no.\"\n"
   ]
  },
  {
   "cell_type": "markdown",
   "metadata": {
    "deletable": false,
    "editable": false,
    "nbgrader": {
     "cell_type": "markdown",
     "checksum": "e10e2163f5957a0c398ef4f0b76b4efe",
     "grade": false,
     "grade_id": "cell-f63377f3c97aa7c4",
     "locked": true,
     "schema_version": 3,
     "solution": false
    }
   },
   "source": [
    "## Question 3\n",
    "It would be interesting to see if there is any evidence of a link between vaccine effectiveness and sex of the child. Calculate the ratio of the number of children who contracted chickenpox but were vaccinated against it (at least one varicella dose) versus those who were vaccinated but did not contract chicken pox. Return results by sex. \n",
    "\n",
    "*This function should return a dictionary in the form of (use the correct numbers):* \n",
    "```\n",
    "    {\"male\":0.2,\n",
    "    \"female\":0.4}\n",
    "```\n",
    "\n",
    "Note: To aid in verification, the `chickenpox_by_sex()['female']` value the autograder is looking for starts with the digits `0.0077`."
   ]
  },
  {
   "cell_type": "code",
   "execution_count": 118,
   "metadata": {
    "deletable": false,
    "nbgrader": {
     "cell_type": "code",
     "checksum": "b4d1b58acae002bc73eb0b19f95bc4af",
     "grade": false,
     "grade_id": "cell-a0a9e6fe67698006",
     "locked": false,
     "schema_version": 3,
     "solution": true
    }
   },
   "outputs": [
    {
     "name": "stdout",
     "output_type": "stream",
     "text": [
      "Number of total records:  28465\n",
      "    Unnamed: 0  SEQNUMC  SEQNUMHH  PDAT    PROVWT_D     RDDWT_D  STRATUM  \\\n",
      "3            4    86131      8613     1  675.430817  333.447418     1040   \n",
      "6            7   221381     22138     1  516.427723  248.916038     1008   \n",
      "10          11   128211     12821     1  335.398714  198.123294     1057   \n",
      "12          13   137041     13704     1   82.582116   45.544717     1051   \n",
      "16          17   188611     18861     1  345.352030  196.111859     1057   \n",
      "\n",
      "    YEAR  AGECPOXR  HAD_CPOX  ...  XVRCTY2  XVRCTY3  XVRCTY4  XVRCTY5  \\\n",
      "3   2017       NaN         2  ...                        NaN      NaN   \n",
      "6   2017       NaN         2  ...                        NaN      NaN   \n",
      "10  2017       NaN         2  ...                        NaN      NaN   \n",
      "12  2017       NaN         2  ...                        NaN      NaN   \n",
      "16  2017       NaN         2  ...       VO               NaN      NaN   \n",
      "\n",
      "    XVRCTY6  XVRCTY7  XVRCTY8  XVRCTY9  INS_STAT2_I  INS_BREAK_I  \n",
      "3       NaN      NaN      NaN      NaN          1.0          2.0  \n",
      "6       NaN      NaN      NaN      NaN          1.0          2.0  \n",
      "10      NaN      NaN      NaN      NaN          1.0          2.0  \n",
      "12      NaN      NaN      NaN      NaN          1.0          2.0  \n",
      "16      NaN      NaN      NaN      NaN          1.0          2.0  \n",
      "\n",
      "[5 rows x 454 columns]\n",
      "13995\n",
      "      Unnamed: 0  SEQNUMC  SEQNUMHH  PDAT     PROVWT_D     RDDWT_D  STRATUM  \\\n",
      "461          462   255961     25596     1   523.277248  275.034692     1002   \n",
      "687          688    72351      7235     1  1849.038009  466.803981     2011   \n",
      "721          722   176421     17642     1  1643.816096  665.365790     2011   \n",
      "863          864    39451      3945     1   150.442176   64.267734     2108   \n",
      "1324        1325    10511      1051     1    54.422973   27.051018     2004   \n",
      "\n",
      "      YEAR  AGECPOXR  HAD_CPOX  ...  XVRCTY2  XVRCTY3  XVRCTY4  XVRCTY5  \\\n",
      "461   2017       3.0         1  ...                        NaN      NaN   \n",
      "687   2017       3.0         1  ...                        NaN      NaN   \n",
      "721   2017       2.0         1  ...                        NaN      NaN   \n",
      "863   2017       3.0         1  ...                        NaN      NaN   \n",
      "1324  2017       4.0         1  ...                        NaN      NaN   \n",
      "\n",
      "      XVRCTY6  XVRCTY7  XVRCTY8  XVRCTY9  INS_STAT2_I  INS_BREAK_I  \n",
      "461       NaN      NaN      NaN      NaN          1.0          1.0  \n",
      "687       NaN      NaN      NaN      NaN          1.0          2.0  \n",
      "721       NaN      NaN      NaN      NaN          2.0          2.0  \n",
      "863       NaN      NaN      NaN      NaN          1.0          2.0  \n",
      "1324      NaN      NaN      NaN      NaN          1.0          2.0  \n",
      "\n",
      "[5 rows x 454 columns]\n",
      "Number of children who contracted chikcenpox:\n",
      "121\n",
      "    Unnamed: 0  SEQNUMC  SEQNUMHH  PDAT    PROVWT_D     RDDWT_D  STRATUM  \\\n",
      "3            4    86131      8613     1  675.430817  333.447418     1040   \n",
      "6            7   221381     22138     1  516.427723  248.916038     1008   \n",
      "10          11   128211     12821     1  335.398714  198.123294     1057   \n",
      "12          13   137041     13704     1   82.582116   45.544717     1051   \n",
      "16          17   188611     18861     1  345.352030  196.111859     1057   \n",
      "\n",
      "    YEAR  AGECPOXR  HAD_CPOX  ...  XVRCTY2  XVRCTY3  XVRCTY4  XVRCTY5  \\\n",
      "3   2017       NaN         2  ...                        NaN      NaN   \n",
      "6   2017       NaN         2  ...                        NaN      NaN   \n",
      "10  2017       NaN         2  ...                        NaN      NaN   \n",
      "12  2017       NaN         2  ...                        NaN      NaN   \n",
      "16  2017       NaN         2  ...       VO               NaN      NaN   \n",
      "\n",
      "    XVRCTY6  XVRCTY7  XVRCTY8  XVRCTY9  INS_STAT2_I  INS_BREAK_I  \n",
      "3       NaN      NaN      NaN      NaN          1.0          2.0  \n",
      "6       NaN      NaN      NaN      NaN          1.0          2.0  \n",
      "10      NaN      NaN      NaN      NaN          1.0          2.0  \n",
      "12      NaN      NaN      NaN      NaN          1.0          2.0  \n",
      "16      NaN      NaN      NaN      NaN          1.0          2.0  \n",
      "\n",
      "[5 rows x 454 columns]\n",
      "number of children who did not contract chickenpox: 13830\n"
     ]
    }
   ],
   "source": [
    "df = pd.read_csv('./assets/NISPUF17.csv')\n",
    "print('Number of total records: ', len(df))\n",
    "\n",
    "#Received at least one dose:\n",
    "vaccinated = df[df['P_NUMVRC'] >= 1]\n",
    "print(vaccinated.head())\n",
    "print(len(vaccinated))\n",
    "\n",
    "#number of children who contracted chickenpox CPOX Chicken Pox Variables - page 52\n",
    "contracted_chickenpox = vaccinated[vaccinated['HAD_CPOX'] == 1]\n",
    "print(contracted_chickenpox.head())\n",
    "print('Number of children who contracted chikcenpox:')\n",
    "print(len(contracted_chickenpox))\n",
    "\n",
    "#children who were vaccinated but did not contract chickenpox \n",
    "not_contracted_chickenpox = vaccinated[vaccinated['HAD_CPOX'] == 2]\n",
    "print(not_contracted_chickenpox.head())\n",
    "print('number of children who did not contract chickenpox:', len( not_contracted_chickenpox))\n",
    "\n",
    "def chickenpox_by_sex():\n",
    "    #ratios by sex\n",
    "    ratio_male = len(contracted_chickenpox[contracted_chickenpox['SEX'] == 1]) / len(not_contracted_chickenpox[not_contracted_chickenpox['SEX'] == 1])\n",
    "    ratio_female = len(contracted_chickenpox[contracted_chickenpox['SEX'] == 2]) / len(not_contracted_chickenpox[not_contracted_chickenpox['SEX'] == 2])\n",
    "    print(ratio_male)\n",
    "    print(ratio_female)\n",
    "    res ={\"male\": ratio_male, \"female\": ratio_female}\n",
    "    return res\n",
    "    raise NotImplementedError()\n",
    "\n",
    "#result = chickenpox_by_sex()\n",
    "#print(result)"
   ]
  },
  {
   "cell_type": "code",
   "execution_count": null,
   "metadata": {
    "deletable": false,
    "editable": false,
    "nbgrader": {
     "cell_type": "code",
     "checksum": "1b6a113a633c55699ae478a3a9ee9c33",
     "grade": true,
     "grade_id": "cell-c4f1714db100c865",
     "locked": true,
     "points": 1,
     "schema_version": 3,
     "solution": false
    }
   },
   "outputs": [],
   "source": [
    "assert len(chickenpox_by_sex())==2, \"Return a dictionary with two items, the first for males and the second for females.\"\n"
   ]
  },
  {
   "cell_type": "markdown",
   "metadata": {},
   "source": [
    "## Question 4\n",
    "A correlation is a statistical relationship between two variables. If we wanted to know if vaccines work, we might look at the correlation between the use of the vaccine and whether it results in prevention of the infection or disease [1]. In this question, you are to see if there is a correlation between having had the chicken pox and the number of chickenpox vaccine doses given (varicella).\n",
    "\n",
    "Some notes on interpreting the answer. The `had_chickenpox_column` is either `1` (for yes) or `2` (for no), and the `num_chickenpox_vaccine_column` is the number of doses a child has been given of the varicella vaccine. A positive correlation (e.g., `corr > 0`) means that an increase in `had_chickenpox_column` (which means more no’s) would also increase the values of `num_chickenpox_vaccine_column` (which means more doses of vaccine). If there is a negative correlation (e.g., `corr < 0`), it indicates that having had chickenpox is related to an increase in the number of vaccine doses.\n",
    "\n",
    "Also, `pval` is the probability that we observe a correlation between `had_chickenpox_column` and `num_chickenpox_vaccine_column` which is greater than or equal to a particular value occurred by chance. A small `pval` means that the observed correlation is highly unlikely to occur by chance. In this case, `pval` should be very small (will end in `e-18` indicating a very small number).\n",
    "\n",
    "[1] This isn’t really the full picture, since we are not looking at when the dose was given. It’s possible that children had chickenpox and then their parents went to get them the vaccine. Does this dataset have the data we would need to investigate the timing of the dose?"
   ]
  },
  {
   "cell_type": "code",
   "execution_count": 136,
   "metadata": {
    "deletable": false,
    "nbgrader": {
     "cell_type": "code",
     "checksum": "3e645859949447913cd11d30eb33cb1e",
     "grade": false,
     "grade_id": "cell-8afff07f564cf79a",
     "locked": false,
     "schema_version": 3,
     "solution": true
    }
   },
   "outputs": [
    {
     "name": "stdout",
     "output_type": "stream",
     "text": [
      "   Unnamed: 0  SEQNUMC  SEQNUMHH  PDAT    PROVWT_D     RDDWT_D  STRATUM  YEAR  \\\n",
      "0           1   128521     12852     2         NaN  235.916956     1031  2017   \n",
      "1           2    10741      1074     2         NaN  957.353840     1068  2017   \n",
      "2           3   220011     22001     2         NaN  189.611299     1050  2017   \n",
      "3           4    86131      8613     1  675.430817  333.447418     1040  2017   \n",
      "4           5   227141     22714     1  482.617748  278.768063     1008  2017   \n",
      "\n",
      "   AGECPOXR  HAD_CPOX  ...  XVRCTY2  XVRCTY3  XVRCTY4  XVRCTY5  XVRCTY6  \\\n",
      "0       NaN         2  ...                        NaN      NaN      NaN   \n",
      "1       NaN         2  ...                        NaN      NaN      NaN   \n",
      "2       NaN         2  ...                        NaN      NaN      NaN   \n",
      "3       NaN         2  ...                        NaN      NaN      NaN   \n",
      "4       NaN         2  ...                        NaN      NaN      NaN   \n",
      "\n",
      "   XVRCTY7  XVRCTY8  XVRCTY9  INS_STAT2_I  INS_BREAK_I  \n",
      "0      NaN      NaN      NaN          NaN          NaN  \n",
      "1      NaN      NaN      NaN          NaN          NaN  \n",
      "2      NaN      NaN      NaN          NaN          NaN  \n",
      "3      NaN      NaN      NaN          1.0          2.0  \n",
      "4      NaN      NaN      NaN          2.0          1.0  \n",
      "\n",
      "[5 rows x 454 columns]\n",
      "   HAD_CPOX  P_NUMVRC\n",
      "3         2       1.0\n",
      "4         2       0.0\n",
      "6         2       1.0\n",
      "7         2       0.0\n",
      "8         1       0.0\n",
      "ALl values of HAD_CPOX variable: [ 2  1 77]\n",
      "[2 1]\n",
      "ALl values of P_NUMVRC variable: [1. 0. 2. 3.]\n"
     ]
    }
   ],
   "source": [
    "#From page 52:\n",
    "#HAD_CPOX - did child ever have chicken pox\n",
    "#P_NUMVRC - total number of varicella doses\n",
    "df = pd.read_csv('./assets/NISPUF17.csv')\n",
    "print(df.head())\n",
    "\n",
    "df_filtered = df[['HAD_CPOX', 'P_NUMVRC']].dropna()\n",
    "print(df_filtered.head())\n",
    "print('ALl values of HAD_CPOX variable:', df_filtered['HAD_CPOX'].unique())\n",
    "\n",
    "#cleaning \n",
    "df_valid_filtered = df_filtered[(df_filtered['HAD_CPOX'] == 1) | (df_filtered['HAD_CPOX'] == 2)]\n",
    "print(df_valid_filtered['HAD_CPOX'].unique())\n",
    "\n",
    "print('ALl values of P_NUMVRC variable:', df_filtered['P_NUMVRC'].unique())\n",
    "\n",
    "\n",
    "def corr_chickenpox():\n",
    "    import scipy.stats as stats\n",
    "    corr, pval=stats.pearsonr(df_valid_filtered[\"HAD_CPOX\"],df_valid_filtered[\"P_NUMVRC\"])\n",
    "    return corr\n",
    "\n",
    "    raise NotImplementedError()"
   ]
  },
  {
   "cell_type": "code",
   "execution_count": 137,
   "metadata": {
    "deletable": false,
    "editable": false,
    "nbgrader": {
     "cell_type": "code",
     "checksum": "ac50ccb747b99f6bbcc76da017e66528",
     "grade": true,
     "grade_id": "cell-73408733533a29a5",
     "locked": true,
     "points": 1,
     "schema_version": 3,
     "solution": false
    }
   },
   "outputs": [],
   "source": [
    "assert -1<=corr_chickenpox()<=1, \"You must return a float number between -1.0 and 1.0.\"\n"
   ]
  }
 ],
 "metadata": {
  "anaconda-cloud": {},
  "hide_code_all_hidden": false,
  "kernelspec": {
   "display_name": "Python 3 (ipykernel)",
   "language": "python",
   "name": "python3"
  },
  "language_info": {
   "codemirror_mode": {
    "name": "ipython",
    "version": 3
   },
   "file_extension": ".py",
   "mimetype": "text/x-python",
   "name": "python",
   "nbconvert_exporter": "python",
   "pygments_lexer": "ipython3",
   "version": "3.9.13"
  }
 },
 "nbformat": 4,
 "nbformat_minor": 4
}
