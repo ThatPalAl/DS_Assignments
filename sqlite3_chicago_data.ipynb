{
 "cells": [
  {
   "cell_type": "markdown",
   "metadata": {},
   "source": [
    "<center>\n",
    "    <img src=\"https://cf-courses-data.s3.us.cloud-object-storage.appdomain.cloud/IBMDeveloperSkillsNetwork-DB0201EN-SkillsNetwork/labs/FinalModule_Coursera_V5/images/SN_web_lightmode.png\" width=\"300\" alt=\"cognitiveclass.ai logo\">\n",
    "</center>\n",
    "\n",
    "<h1 align=center><font size = 5>Assignment: Notebook for Graded Assessment</font></h1>\n"
   ]
  },
  {
   "cell_type": "markdown",
   "metadata": {},
   "source": [
    "# Introduction\n",
    "\n",
    "Using this Python notebook you will:\n",
    "\n",
    "1.  Understand three Chicago datasets\n",
    "2.  Load the three datasets into three tables in a SQLIte database\n",
    "3.  Execute SQL queries to answer assignment questions\n"
   ]
  },
  {
   "cell_type": "markdown",
   "metadata": {},
   "source": [
    "## Understand the datasets\n",
    "\n",
    "To complete the assignment problems in this notebook you will be using three datasets that are available on the city of Chicago's Data Portal:\n",
    "\n",
    "1.  <a href=\"https://data.cityofchicago.org/Health-Human-Services/Census-Data-Selected-socioeconomic-indicators-in-C/kn9c-c2s2?utm_medium=Exinfluencer&utm_source=Exinfluencer&utm_content=000026UJ&utm_term=10006555&utm_id=NA-SkillsNetwork-Channel-SkillsNetworkCoursesIBMDeveloperSkillsNetworkDB0201ENSkillsNetwork20127838-2021-01-01\">Socioeconomic Indicators in Chicago</a>\n",
    "2.  <a href=\"https://data.cityofchicago.org/Education/Chicago-Public-Schools-Progress-Report-Cards-2011-/9xs2-f89t?utm_medium=Exinfluencer&utm_source=Exinfluencer&utm_content=000026UJ&utm_term=10006555&utm_id=NA-SkillsNetwork-Channel-SkillsNetworkCoursesIBMDeveloperSkillsNetworkDB0201ENSkillsNetwork20127838-2021-01-01\">Chicago Public Schools</a>\n",
    "3.  <a href=\"https://data.cityofchicago.org/Public-Safety/Crimes-2001-to-present/ijzp-q8t2?utm_medium=Exinfluencer&utm_source=Exinfluencer&utm_content=000026UJ&utm_term=10006555&utm_id=NA-SkillsNetwork-Channel-SkillsNetworkCoursesIBMDeveloperSkillsNetworkDB0201ENSkillsNetwork20127838-2021-01-01\">Chicago Crime Data</a>\n",
    "\n",
    "### 1. Socioeconomic Indicators in Chicago\n",
    "\n",
    "This dataset contains a selection of six socioeconomic indicators of public health significance and a “hardship index,” for each Chicago community area, for the years 2008 – 2012.\n",
    "\n",
    "A detailed description of this dataset and the original dataset can be obtained from the Chicago Data Portal at:\n",
    "\n",
    "[https://data.cityofchicago.org/Health-Human-Services/Census-Data-Selected-socioeconomic-indicators-in-C/kn9c-c2s2](https://data.cityofchicago.org/Health-Human-Services/Census-Data-Selected-socioeconomic-indicators-in-C/kn9c-c2s2?utm_medium=Exinfluencer&utm_source=Exinfluencer&utm_content=000026UJ&utm_term=10006555&utm_id=NA-SkillsNetwork-Channel-SkillsNetworkCoursesIBMDeveloperSkillsNetworkDB0201ENSkillsNetwork20127838-2021-01-01&cm_mmc=Email_Newsletter-\\_-Developer_Ed%2BTech-\\_-WW_WW-\\_-SkillsNetwork-Courses-IBMDeveloperSkillsNetwork-DB0201EN-SkillsNetwork-20127838&cm_mmca1=000026UJ&cm_mmca2=10006555&cm_mmca3=M12345678&cvosrc=email.Newsletter.M12345678&cvo_campaign=000026UJ)\n",
    "\n",
    "### 2. Chicago Public Schools\n",
    "\n",
    "This dataset shows all school level performance data used to create CPS School Report Cards for the 2011-2012 school year. This dataset is provided by the city of Chicago's Data Portal.\n",
    "\n",
    "A detailed description of this dataset and the original dataset can be obtained from the Chicago Data Portal at:\n",
    "\n",
    "[https://data.cityofchicago.org/Education/Chicago-Public-Schools-Progress-Report-Cards-2011-/9xs2-f89t](https://data.cityofchicago.org/Education/Chicago-Public-Schools-Progress-Report-Cards-2011-/9xs2-f89t?utm_medium=Exinfluencer&utm_source=Exinfluencer&utm_content=000026UJ&utm_term=10006555&utm_id=NA-SkillsNetwork-Channel-SkillsNetworkCoursesIBMDeveloperSkillsNetworkDB0201ENSkillsNetwork20127838-2021-01-01&cm_mmc=Email_Newsletter-\\_-Developer_Ed%2BTech-\\_-WW_WW-\\_-SkillsNetwork-Courses-IBMDeveloperSkillsNetwork-DB0201EN-SkillsNetwork-20127838&cm_mmca1=000026UJ&cm_mmca2=10006555&cm_mmca3=M12345678&cvosrc=email.Newsletter.M12345678&cvo_campaign=000026UJ)\n",
    "\n",
    "### 3. Chicago Crime Data\n",
    "\n",
    "This dataset reflects reported incidents of crime (with the exception of murders where data exists for each victim) that occurred in the City of Chicago from 2001 to present, minus the most recent seven days.\n",
    "\n",
    "A detailed description of this dataset and the original dataset can be obtained from the Chicago Data Portal at:\n",
    "\n",
    "[https://data.cityofchicago.org/Public-Safety/Crimes-2001-to-present/ijzp-q8t2](https://data.cityofchicago.org/Public-Safety/Crimes-2001-to-present/ijzp-q8t2?utm_medium=Exinfluencer&utm_source=Exinfluencer&utm_content=000026UJ&utm_term=10006555&utm_id=NA-SkillsNetwork-Channel-SkillsNetworkCoursesIBMDeveloperSkillsNetworkDB0201ENSkillsNetwork20127838-2021-01-01&cm_mmc=Email_Newsletter-\\_-Developer_Ed%2BTech-\\_-WW_WW-\\_-SkillsNetwork-Courses-IBMDeveloperSkillsNetwork-DB0201EN-SkillsNetwork-20127838&cm_mmca1=000026UJ&cm_mmca2=10006555&cm_mmca3=M12345678&cvosrc=email.Newsletter.M12345678&cvo_campaign=000026UJ)\n"
   ]
  },
  {
   "cell_type": "markdown",
   "metadata": {},
   "source": [
    "### Download the datasets\n",
    "\n",
    "This assignment requires you to have these three tables populated with a subset of the whole datasets.\n",
    "\n",
    "In many cases the dataset to be analyzed is available as a .CSV (comma separated values) file, perhaps on the internet. \n",
    "\n",
    "Use the links below to read the data files using the Pandas library. \n",
    "\n",
    "* Chicago Census Data\n",
    "\n",
    "https://cf-courses-data.s3.us.cloud-object-storage.appdomain.cloud/IBMDeveloperSkillsNetwork-DB0201EN-SkillsNetwork/labs/FinalModule_Coursera_V5/data/ChicagoCensusData.csv?utm_medium=Exinfluencer&utm_source=Exinfluencer&utm_content=000026UJ&utm_term=10006555&utm_id=NA-SkillsNetwork-Channel-SkillsNetworkCoursesIBMDeveloperSkillsNetworkDB0201ENSkillsNetwork20127838-2021-01-01\n",
    "\n",
    "* Chicago Public Schools\n",
    "\n",
    "https://cf-courses-data.s3.us.cloud-object-storage.appdomain.cloud/IBMDeveloperSkillsNetwork-DB0201EN-SkillsNetwork/labs/FinalModule_Coursera_V5/data/ChicagoPublicSchools.csv?utm_medium=Exinfluencer&utm_source=Exinfluencer&utm_content=000026UJ&utm_term=10006555&utm_id=NA-SkillsNetwork-Channel-SkillsNetworkCoursesIBMDeveloperSkillsNetworkDB0201ENSkillsNetwork20127838-2021-01-01\n",
    "\n",
    "* Chicago Crime Data\n",
    "\n",
    "https://cf-courses-data.s3.us.cloud-object-storage.appdomain.cloud/IBMDeveloperSkillsNetwork-DB0201EN-SkillsNetwork/labs/FinalModule_Coursera_V5/data/ChicagoCrimeData.csv?utm_medium=Exinfluencer&utm_source=Exinfluencer&utm_content=000026UJ&utm_term=10006555&utm_id=NA-SkillsNetwork-Channel-SkillsNetworkCoursesIBMDeveloperSkillsNetworkDB0201ENSkillsNetwork20127838-2021-01-01\n",
    "\n",
    "**NOTE:** Ensure you use the datasets available on the links above instead of directly from the Chicago Data Portal. The versions linked here are subsets of the original datasets and have some of the column names modified to be more database friendly which will make it easier to complete this assignment.\n"
   ]
  },
  {
   "cell_type": "markdown",
   "metadata": {},
   "source": [
    "### Store the datasets in database tables\n",
    "\n",
    "To analyze the data using SQL, it first needs to be loaded into SQLite DB.\n",
    "We will create three tables in as under:\n",
    "\n",
    "1.  **CENSUS_DATA**\n",
    "2.  **CHICAGO_PUBLIC_SCHOOLS**\n",
    "3.  **CHICAGO_CRIME_DATA**\n"
   ]
  },
  {
   "cell_type": "markdown",
   "metadata": {},
   "source": [
    "Load the `pandas` and `sqlite3` libraries and establish a connection to `FinalDB.db`\n"
   ]
  },
  {
   "cell_type": "code",
   "execution_count": 72,
   "metadata": {
    "tags": []
   },
   "outputs": [
    {
     "name": "stdout",
     "output_type": "stream",
     "text": [
      "Connection established properly\n"
     ]
    }
   ],
   "source": [
    "import pandas as pd\n",
    "import sqlite3\n",
    "\n",
    "try:\n",
    "    con = sqlite3.connect('FinalDB.db')\n",
    "    cur = con.cursor()\n",
    "    print('Connection established properly')\n",
    "except:\n",
    "    print('Unable to connect, try again')"
   ]
  },
  {
   "cell_type": "markdown",
   "metadata": {},
   "source": [
    "Load the SQL magic module"
   ]
  },
  {
   "cell_type": "code",
   "execution_count": 73,
   "metadata": {
    "tags": []
   },
   "outputs": [
    {
     "name": "stdout",
     "output_type": "stream",
     "text": [
      "The sql extension is already loaded. To reload it, use:\n",
      "  %reload_ext sql\n"
     ]
    }
   ],
   "source": [
    "%load_ext sql"
   ]
  },
  {
   "cell_type": "code",
   "execution_count": 89,
   "metadata": {
    "tags": []
   },
   "outputs": [
    {
     "data": {
      "text/plain": [
       "'Connected: @FinalDb.db'"
      ]
     },
     "execution_count": 89,
     "metadata": {},
     "output_type": "execute_result"
    }
   ],
   "source": [
    "%sql sqlite:///FinalDB.db"
   ]
  },
  {
   "cell_type": "markdown",
   "metadata": {},
   "source": [
    "Use `Pandas` to load the data available in the links above to dataframes. Use these dataframes to load data on to the database `FinalDB.db` as required tables.\n"
   ]
  },
  {
   "cell_type": "code",
   "execution_count": 90,
   "metadata": {
    "tags": []
   },
   "outputs": [
    {
     "name": "stderr",
     "output_type": "stream",
     "text": [
      "/home/jupyterlab/conda/envs/python/lib/python3.7/site-packages/pandas/core/generic.py:2615: UserWarning: The spaces in these column names will not be changed. In pandas versions < 0.14, spaces were converted to underscores.\n",
      "  method=method,\n"
     ]
    },
    {
     "data": {
      "text/plain": [
       "Index(['ID', 'CASE_NUMBER', 'DATE', 'BLOCK', 'IUCR', 'PRIMARY_TYPE',\n",
       "       'DESCRIPTION', 'LOCATION_DESCRIPTION', 'ARREST', 'DOMESTIC', 'BEAT',\n",
       "       'DISTRICT', 'WARD', 'COMMUNITY_AREA_NUMBER', 'FBICODE', 'X_COORDINATE',\n",
       "       'Y_COORDINATE', 'YEAR', 'LATITUDE', 'LONGITUDE', 'LOCATION'],\n",
       "      dtype='object')"
      ]
     },
     "execution_count": 90,
     "metadata": {},
     "output_type": "execute_result"
    }
   ],
   "source": [
    "#chicago census data:\n",
    "#https://cf-courses-data.s3.us.cloud-object-storage.appdomain.cloud/IBMDeveloperSkillsNetwork-DB0201EN-SkillsNetwork/labs/FinalModule_Coursera_V5/data/ChicagoCensusData.csv?utm_medium=Exinfluencer&utm_source=Exinfluencer&utm_content=000026UJ&utm_term=10006555&utm_id=NA-SkillsNetwork-Channel-SkillsNetworkCoursesIBMDeveloperSkillsNetworkDB0201ENSkillsNetwork20127838-2021-01-01\n",
    "df_chicago_census_data = pd.read_csv('https://cf-courses-data.s3.us.cloud-object-storage.appdomain.cloud/IBMDeveloperSkillsNetwork-DB0201EN-SkillsNetwork/labs/FinalModule_Coursera_V5/data/ChicagoCensusData.csv?utm_medium=Exinfluencer&utm_source=Exinfluencer&utm_content=000026UJ&utm_term=10006555&utm_id=NA-SkillsNetwork-Channel-SkillsNetworkCoursesIBMDeveloperSkillsNetworkDB0201ENSkillsNetwork20127838-2021-01-01')\n",
    "df_chicago_census_data.to_sql(\"CENSUS_DATA\", con, if_exists = 'replace', index=False, method='multi')\n",
    "df_chicago_census_data.keys()\n",
    "#Public schools:\n",
    "#https://cf-courses-data.s3.us.cloud-object-storage.appdomain.cloud/IBMDeveloperSkillsNetwork-DB0201EN-SkillsNetwork/labs/FinalModule_Coursera_V5/data/ChicagoPublicSchools.csv?utm_medium=Exinfluencer&utm_source=Exinfluencer&utm_content=000026UJ&utm_term=10006555&utm_id=NA-SkillsNetwork-Channel-SkillsNetworkCoursesIBMDeveloperSkillsNetworkDB0201ENSkillsNetwork20127838-2021-01-01\n",
    "df_chicago_public_schools = pd.read_csv('https://cf-courses-data.s3.us.cloud-object-storage.appdomain.cloud/IBMDeveloperSkillsNetwork-DB0201EN-SkillsNetwork/labs/FinalModule_Coursera_V5/data/ChicagoPublicSchools.csv?utm_medium=Exinfluencer&utm_source=Exinfluencer&utm_content=000026UJ&utm_term=10006555&utm_id=NA-SkillsNetwork-Channel-SkillsNetworkCoursesIBMDeveloperSkillsNetworkDB0201ENSkillsNetwork20127838-2021-01-01')\n",
    "df_chicago_public_schools.to_sql(\"CHICAGO_PUBLIC_SCHOOLS\", con, if_exists = 'replace', index=False, method='multi')\n",
    "df_chicago_public_schools.keys()\n",
    "#Chicago Crime data:\n",
    "#https://cf-courses-data.s3.us.cloud-object-storage.appdomain.cloud/IBMDeveloperSkillsNetwork-DB0201EN-SkillsNetwork/labs/FinalModule_Coursera_V5/data/ChicagoCrimeData.csv?utm_medium=Exinfluencer&utm_source=Exinfluencer&utm_content=000026UJ&utm_term=10006555&utm_id=NA-SkillsNetwork-Channel-SkillsNetworkCoursesIBMDeveloperSkillsNetworkDB0201ENSkillsNetwork20127838-2021-01-01\n",
    "df_chicago_crime_data = pd.read_csv('https://cf-courses-data.s3.us.cloud-object-storage.appdomain.cloud/IBMDeveloperSkillsNetwork-DB0201EN-SkillsNetwork/labs/FinalModule_Coursera_V5/data/ChicagoCrimeData.csv?utm_medium=Exinfluencer&utm_source=Exinfluencer&utm_content=000026UJ&utm_term=10006555&utm_id=NA-SkillsNetwork-Channel-SkillsNetworkCoursesIBMDeveloperSkillsNetworkDB0201ENSkillsNetwork20127838-2021-01-01')\n",
    "df_chicago_crime_data.to_sql(\"CHICAGO_CRIME_DATA\", con, if_exists = 'replace', index=False, method='multi')\n",
    "df_chicago_crime_data.keys()"
   ]
  },
  {
   "cell_type": "markdown",
   "metadata": {},
   "source": [
    "Establish a connection between SQL magic module and the database `FinalDB.db`\n"
   ]
  },
  {
   "cell_type": "code",
   "execution_count": 94,
   "metadata": {
    "tags": []
   },
   "outputs": [
    {
     "name": "stdout",
     "output_type": "stream",
     "text": [
      " * sqlite:///FinalDb.db\n",
      "Done.\n"
     ]
    },
    {
     "data": {
      "text/html": [
       "<table>\n",
       "    <thead>\n",
       "        <tr>\n",
       "            <th>type</th>\n",
       "            <th>name</th>\n",
       "            <th>tbl_name</th>\n",
       "            <th>rootpage</th>\n",
       "            <th>sql</th>\n",
       "        </tr>\n",
       "    </thead>\n",
       "    <tbody>\n",
       "    </tbody>\n",
       "</table>"
      ],
      "text/plain": [
       "[]"
      ]
     },
     "execution_count": 94,
     "metadata": {},
     "output_type": "execute_result"
    }
   ],
   "source": [
    "%sql SELECT * FROM sqlite_master WHERE type ='table'"
   ]
  },
  {
   "cell_type": "code",
   "execution_count": 92,
   "metadata": {
    "tags": []
   },
   "outputs": [
    {
     "name": "stdout",
     "output_type": "stream",
     "text": [
      "                     name\n",
      "0             CENSUS_DATA\n",
      "1  CHICAGO_PUBLIC_SCHOOLS\n",
      "2      CHICAGO_CRIME_DATA\n"
     ]
    }
   ],
   "source": [
    "# Check existing tables in the database\n",
    "query = \"SELECT name FROM sqlite_master WHERE type='table';\"\n",
    "tables = pd.read_sql(query, con)\n",
    "print(tables)"
   ]
  },
  {
   "cell_type": "code",
   "execution_count": 119,
   "metadata": {
    "tags": []
   },
   "outputs": [
    {
     "name": "stdout",
     "output_type": "stream",
     "text": [
      "Table number: 1 ['CHICAGO_PUBLIC_SCHOOLS']\n",
      "        ID CASE_NUMBER        DATE                     BLOCK IUCR  \\\n",
      "0  3512276    HK587712  2004-08-28        047XX S KEDZIE AVE  890   \n",
      "1  3406613    HK456306  2004-06-26  009XX N CENTRAL PARK AVE  820   \n",
      "2  8002131    HT233595  2011-04-04        043XX S WABASH AVE  820   \n",
      "\n",
      "  PRIMARY_TYPE     DESCRIPTION          LOCATION_DESCRIPTION  ARREST  \\\n",
      "0        THEFT   FROM BUILDING            SMALL RETAIL STORE       0   \n",
      "1        THEFT  $500 AND UNDER                         OTHER       0   \n",
      "2        THEFT  $500 AND UNDER  NURSING HOME/RETIREMENT HOME       0   \n",
      "\n",
      "   DOMESTIC  ...  DISTRICT  WARD  COMMUNITY_AREA_NUMBER  FBICODE X_COORDINATE  \\\n",
      "0         0  ...         9  14.0                   58.0        6    1155838.0   \n",
      "1         0  ...        11  27.0                   23.0        6    1152206.0   \n",
      "2         0  ...         2   3.0                   38.0        6    1177436.0   \n",
      "\n",
      "   Y_COORDINATE  YEAR   LATITUDE  LONGITUDE                       LOCATION  \n",
      "0     1873050.0  2004  41.807441 -87.703956    (41.8074405, -87.703955849)  \n",
      "1     1906127.0  2004  41.898280 -87.716406  (41.898279962, -87.716405505)  \n",
      "2     1876313.0  2011  41.815933 -87.624642  (41.815933131, -87.624642127)  \n",
      "\n",
      "[3 rows x 21 columns]\n",
      "Table number: 2 ['CHICAGO_CRIME_DATA']\n",
      "   COMMUNITY_AREA_NUMBER COMMUNITY_AREA_NAME  PERCENT_OF_HOUSING_CROWDED  \\\n",
      "0                    1.0         Rogers Park                         7.7   \n",
      "1                    2.0          West Ridge                         7.8   \n",
      "2                    3.0              Uptown                         3.8   \n",
      "\n",
      "   PERCENT_HOUSEHOLDS_BELOW_POVERTY  PERCENT_AGED_16__UNEMPLOYED  \\\n",
      "0                              23.6                          8.7   \n",
      "1                              17.2                          8.8   \n",
      "2                              24.0                          8.9   \n",
      "\n",
      "   PERCENT_AGED_25__WITHOUT_HIGH_SCHOOL_DIPLOMA  \\\n",
      "0                                          18.2   \n",
      "1                                          20.8   \n",
      "2                                          11.8   \n",
      "\n",
      "   PERCENT_AGED_UNDER_18_OR_OVER_64  PER_CAPITA_INCOME  HARDSHIP_INDEX  \n",
      "0                              27.5              23939            39.0  \n",
      "1                              38.5              23040            46.0  \n",
      "2                              22.2              35787            20.0  \n",
      "Table number: 3 ['CENSUS_DATA']\n",
      "   School_ID                                     NAME_OF_SCHOOL  \\\n",
      "0     610038                  Abraham Lincoln Elementary School   \n",
      "1     610281  Adam Clayton Powell Paideia Community Academy ...   \n",
      "2     610185                Adlai E Stevenson Elementary School   \n",
      "\n",
      "  Elementary, Middle, or High School         Street_Address     City State  \\\n",
      "0                                 ES        615 W Kemper Pl  Chicago    IL   \n",
      "1                                 ES  7511 S South Shore Dr  Chicago    IL   \n",
      "2                                 ES     8010 S Kostner Ave  Chicago    IL   \n",
      "\n",
      "   ZIP_Code    Phone_Number  \\\n",
      "0     60614  (773) 534-5720   \n",
      "1     60649  (773) 535-6650   \n",
      "2     60652  (773) 535-2280   \n",
      "\n",
      "                                                Link  \\\n",
      "0  http://schoolreports.cps.edu/SchoolProgressRep...   \n",
      "1  http://schoolreports.cps.edu/SchoolProgressRep...   \n",
      "2  http://schoolreports.cps.edu/SchoolProgressRep...   \n",
      "\n",
      "                Network_Manager  ... Freshman_on_Track_Rate__ X_COORDINATE  \\\n",
      "0  Fullerton Elementary Network  ...                      NDA  1171699.458   \n",
      "1     Skyway Elementary Network  ...                      NDA  1196129.985   \n",
      "2     Midway Elementary Network  ...                      NDA  1148427.165   \n",
      "\n",
      "  Y_COORDINATE   Latitude  Longitude COMMUNITY_AREA_NUMBER  \\\n",
      "0  1915829.428  41.924497 -87.644522                     7   \n",
      "1  1856209.466  41.760324 -87.556736                    43   \n",
      "2  1851012.215  41.747111 -87.731702                    70   \n",
      "\n",
      "  COMMUNITY_AREA_NAME  Ward Police_District                     Location  \n",
      "0        LINCOLN PARK    43              18  (41.92449696, -87.64452163)  \n",
      "1         SOUTH SHORE     7               4  (41.76032435, -87.55673627)  \n",
      "2             ASHBURN    13               8  (41.74711093, -87.73170248)  \n",
      "\n",
      "[3 rows x 78 columns]\n"
     ]
    }
   ],
   "source": [
    "queries = [\"SELECT * FROM CHICAGO_CRIME_DATA LIMIT 3\", \"SELECT * FROM CENSUS_DATA LIMIT 3\", \"SELECT * FROM CHICAGO_PUBLIC_SCHOOLS LIMIT 3\"]\n",
    "for i, query_s in enumerate(queries):\n",
    "    table_res = pd.read_sql(query_s, con)\n",
    "    print('Table number:', i + 1, queries[i-1].split()[-3:-2])\n",
    "    i = i+1\n",
    "    print(table_res)\n",
    "#%sql SELECT * FROM CHICAGO_CRIME_DATA"
   ]
  },
  {
   "cell_type": "markdown",
   "metadata": {},
   "source": [
    "You can now proceed to the the following questions. Please note that a graded assignment will follow this lab and there will be a question on each of the problems stated below. It can be from the answer you received or the code you write for this problem. Therefore, please keep a note of both your codes as well as the response you generate.\n"
   ]
  },
  {
   "cell_type": "markdown",
   "metadata": {},
   "source": [
    "## Problems\n",
    "\n",
    "Now write and execute SQL queries to solve assignment problems\n",
    "\n",
    "### Problem 1\n",
    "\n",
    "##### Find the total number of crimes recorded in the CRIME table.\n"
   ]
  },
  {
   "cell_type": "code",
   "execution_count": 106,
   "metadata": {
    "tags": []
   },
   "outputs": [
    {
     "name": "stdout",
     "output_type": "stream",
     "text": [
      "   COUNT(*)\n",
      "0       533\n"
     ]
    }
   ],
   "source": [
    "query1 = \"SELECT COUNT(*) FROM CHICAGO_CRIME_DATA\"\n",
    "res1 = pd.read_sql(query1, con)\n",
    "print(res1)"
   ]
  },
  {
   "cell_type": "markdown",
   "metadata": {},
   "source": [
    "### Problem 2\n",
    "\n",
    "##### List community area names and numbers with per capita income less than 11000.\n"
   ]
  },
  {
   "cell_type": "code",
   "execution_count": 130,
   "metadata": {
    "tags": []
   },
   "outputs": [
    {
     "name": "stdout",
     "output_type": "stream",
     "text": [
      "  COMMUNITY_AREA_NAME  PER_CAPITA_INCOME\n",
      "0  West Garfield Park              10934\n",
      "1      South Lawndale              10402\n",
      "2         Fuller Park              10432\n",
      "3           Riverdale               8201\n"
     ]
    }
   ],
   "source": [
    "query2 = \"SELECT COMMUNITY_AREA_NAME,PER_CAPITA_INCOME FROM CENSUS_DATA WHERE PER_CAPITA_INCOME < 11000\"\n",
    "res2 = pd.read_sql(query2, con)\n",
    "print(res2)"
   ]
  },
  {
   "cell_type": "markdown",
   "metadata": {},
   "source": [
    "### Problem 3\n",
    "\n",
    "##### List all case numbers for crimes involving minors?(children are not considered minors for the purposes of crime analysis) \n"
   ]
  },
  {
   "cell_type": "code",
   "execution_count": 136,
   "metadata": {
    "tags": []
   },
   "outputs": [
    {
     "name": "stdout",
     "output_type": "stream",
     "text": [
      "        ID CASE_NUMBER        DATE                     BLOCK  IUCR  \\\n",
      "0  3987219    HL266884  2005-03-31          024XX N CLARK ST  2210   \n",
      "1  3266814    HK238408  2004-03-13  093XX S STONY ISLAND AVE  2230   \n",
      "\n",
      "           PRIMARY_TYPE                    DESCRIPTION LOCATION_DESCRIPTION  \\\n",
      "0  LIQUOR LAW VIOLATION  SELL/GIVE/DEL LIQUOR TO MINOR    CONVENIENCE STORE   \n",
      "1  LIQUOR LAW VIOLATION   ILLEGAL CONSUMPTION BY MINOR                ALLEY   \n",
      "\n",
      "   ARREST  DOMESTIC  BEAT  DISTRICT  WARD  COMMUNITY_AREA_NUMBER FBICODE  \\\n",
      "0       1         0  2333        19  43.0                    7.0      22   \n",
      "1       1         0   413         4   8.0                   48.0      22   \n",
      "\n",
      "   X_COORDINATE  Y_COORDINATE  YEAR   LATITUDE  LONGITUDE  \\\n",
      "0     1172680.0     1916483.0  2005  41.926269 -87.640899   \n",
      "1     1188539.0     1843379.0  2004  41.725301 -87.584966   \n",
      "\n",
      "                        LOCATION  \n",
      "0  (41.926268719, -87.640899336)  \n",
      "1   (41.72530099, -87.584965887)  \n"
     ]
    }
   ],
   "source": [
    "query3 = \"SELECT * FROM CHICAGO_CRIME_DATA WHERE DESCRIPTION LIKE '%MINOR%' \"\n",
    "res3 = pd.read_sql(query3, con)\n",
    "print(res3)"
   ]
  },
  {
   "cell_type": "markdown",
   "metadata": {},
   "source": [
    "### Problem 4\n",
    "\n",
    "##### List all kidnapping crimes involving a child?\n"
   ]
  },
  {
   "cell_type": "code",
   "execution_count": 137,
   "metadata": {
    "tags": []
   },
   "outputs": [
    {
     "name": "stdout",
     "output_type": "stream",
     "text": [
      "        ID CASE_NUMBER        DATE                 BLOCK  IUCR  \\\n",
      "0  5766654    HN567387  2007-09-02   026XX W BELMONT AVE  1754   \n",
      "1  6986273    HR391350  2009-06-23     015XX S KOLIN AVE  1753   \n",
      "2  5276766    HN144152  2007-01-26  050XX W VAN BUREN ST  1792   \n",
      "\n",
      "                 PRIMARY_TYPE                     DESCRIPTION  \\\n",
      "0  OFFENSE INVOLVING CHILDREN  AGG SEX ASSLT OF CHILD FAM MBR   \n",
      "1  OFFENSE INVOLVING CHILDREN   SEX ASSLT OF CHILD BY FAM MBR   \n",
      "2                  KIDNAPPING        CHILD ABDUCTION/STRANGER   \n",
      "\n",
      "                LOCATION_DESCRIPTION  ARREST  DOMESTIC  BEAT  DISTRICT  WARD  \\\n",
      "0  CHURCH/SYNAGOGUE/PLACE OF WORSHIP       0         0  1411        14   1.0   \n",
      "1                          APARTMENT       0         1  1012        10  24.0   \n",
      "2                             STREET       0         0  1533        15  29.0   \n",
      "\n",
      "   COMMUNITY_AREA_NUMBER FBICODE  X_COORDINATE  Y_COORDINATE  YEAR   LATITUDE  \\\n",
      "0                   21.0       2     1158166.0     1921161.0  2007  41.939415   \n",
      "1                   29.0       2     1147638.0     1892092.0  2009  41.859855   \n",
      "2                   25.0      20     1143050.0     1897546.0  2007  41.874908   \n",
      "\n",
      "   LONGITUDE                       LOCATION  \n",
      "0 -87.694103  (41.939414712, -87.694103222)  \n",
      "1 -87.733544  (41.859855212, -87.733543816)  \n",
      "2 -87.750249  (41.874908413, -87.750249307)  \n"
     ]
    }
   ],
   "source": [
    "query4 = \"SELECT * FROM CHICAGO_CRIME_DATA WHERE DESCRIPTION LIKE '%CHILD%'\"\n",
    "res4 = pd.read_sql(query4, con)\n",
    "print(res4)"
   ]
  },
  {
   "cell_type": "markdown",
   "metadata": {},
   "source": [
    "### Problem 5\n",
    "\n",
    "##### List the kind of crimes that were recorded at schools. (No repetitions)\n"
   ]
  },
  {
   "cell_type": "code",
   "execution_count": 138,
   "metadata": {
    "tags": []
   },
   "outputs": [
    {
     "name": "stdout",
     "output_type": "stream",
     "text": [
      "          ID CASE_NUMBER        DATE                                BLOCK  \\\n",
      "0    4006321    HL353697  2005-05-04                  077XX S BURNHAM AVE   \n",
      "1    4430638    HL725506  2005-11-09                048XX N FRANCISCO AVE   \n",
      "2    6644618    HP716225  2008-12-04  030XX S DR MARTIN LUTHER KING JR DR   \n",
      "3    2341955    HH639427  2002-09-10                   005XX N WALLER AVE   \n",
      "4   11110571    JA460432  2017-10-05                    076XX S HOMAN AVE   \n",
      "5    7399281    HS200939  2010-03-10                053XX W CONGRESS PKWY   \n",
      "6    3530721    HK577020  2004-08-23                  016XX W JONQUIL TER   \n",
      "7    7502426    HS305355  2010-05-13                035XX S WASHTENAW AVE   \n",
      "8    8082600    HT315369  2011-05-26                     032XX W ADAMS ST   \n",
      "9    7174283    HR585012  2009-10-13                      043XX W 79TH ST   \n",
      "10   2075734    HH292682  2002-04-05                 016XX W BRYN MAWR AV   \n",
      "11   1806896     G635735  2001-10-22                 0000X N HERMITAGE AV   \n",
      "\n",
      "    IUCR            PRIMARY_TYPE                     DESCRIPTION  \\\n",
      "0    460                 BATTERY                          SIMPLE   \n",
      "1    484                 BATTERY     PRO EMP HANDS NO/MIN INJURY   \n",
      "2    460                 BATTERY                          SIMPLE   \n",
      "3    460                 BATTERY                          SIMPLE   \n",
      "4    460                 BATTERY                          SIMPLE   \n",
      "5   1320         CRIMINAL DAMAGE                      TO VEHICLE   \n",
      "6   2024               NARCOTICS             POSS: HEROIN(WHITE)   \n",
      "7   1821               NARCOTICS  MANU/DEL:CANNABIS 10GM OR LESS   \n",
      "8    545                 ASSAULT     PRO EMP HANDS NO/MIN INJURY   \n",
      "9   1330       CRIMINAL TRESPASS                         TO LAND   \n",
      "10  2850  PUBLIC PEACE VIOLATION                     BOMB THREAT   \n",
      "11  2850  PUBLIC PEACE VIOLATION                     BOMB THREAT   \n",
      "\n",
      "         LOCATION_DESCRIPTION  ARREST  DOMESTIC  BEAT  DISTRICT  WARD  \\\n",
      "0     SCHOOL, PUBLIC, GROUNDS       0         0   421         4   7.0   \n",
      "1    SCHOOL, PUBLIC, BUILDING       1         0  2031        20  40.0   \n",
      "2    SCHOOL, PUBLIC, BUILDING       0         0  2112         1   2.0   \n",
      "3    SCHOOL, PUBLIC, BUILDING       0         0  1512        15  29.0   \n",
      "4     SCHOOL, PUBLIC, GROUNDS       0         0   835         8  18.0   \n",
      "5     SCHOOL, PUBLIC, GROUNDS       0         0  1522        15  29.0   \n",
      "6     SCHOOL, PUBLIC, GROUNDS       1         0  2422        24  49.0   \n",
      "7    SCHOOL, PUBLIC, BUILDING       1         0   913         9  12.0   \n",
      "8     SCHOOL, PUBLIC, GROUNDS       0         0  1124        11  28.0   \n",
      "9     SCHOOL, PUBLIC, GROUNDS       1         0   834         8  13.0   \n",
      "10  SCHOOL, PRIVATE, BUILDING       0         0  2012        20   NaN   \n",
      "11   SCHOOL, PUBLIC, BUILDING       1         0  1333        12   NaN   \n",
      "\n",
      "    COMMUNITY_AREA_NUMBER FBICODE  X_COORDINATE  Y_COORDINATE  YEAR  \\\n",
      "0                    43.0     08B     1196066.0     1854156.0  2005   \n",
      "1                     4.0     08B     1156348.0     1932071.0  2005   \n",
      "2                    35.0     08B     1179306.0     1885032.0  2008   \n",
      "3                    25.0     08B     1138238.0     1903181.0  2002   \n",
      "4                    70.0     08B     1155024.0     1853614.0  2017   \n",
      "5                    25.0      14     1140822.0     1897164.0  2010   \n",
      "6                     1.0      18     1163893.0     1951001.0  2004   \n",
      "7                    58.0      18     1158944.0     1880896.0  2010   \n",
      "8                    27.0     08A     1154752.0     1898890.0  2011   \n",
      "9                    70.0      26     1148764.0     1851854.0  2009   \n",
      "10                    NaN      26           NaN           NaN  2002   \n",
      "11                    NaN      26     1164687.0     1900646.0  2001   \n",
      "\n",
      "     LATITUDE  LONGITUDE                       LOCATION  \n",
      "0   41.754691 -87.557039  (41.754691074, -87.557038686)  \n",
      "1   41.969389 -87.700489   (41.96938944, -87.700488807)  \n",
      "2   41.839816 -87.617516  (41.839816207, -87.617516172)  \n",
      "3   41.890460 -87.767781  (41.890459933, -87.767780886)  \n",
      "4   41.754122 -87.707460  (41.754121535, -87.707460248)  \n",
      "5   41.873901 -87.758439  (41.873901397, -87.758439102)  \n",
      "6   42.021178 -87.672208   (42.021177601, -87.67220843)  \n",
      "7   41.828908 -87.692349  (41.828907913, -87.692349187)  \n",
      "8   41.878370 -87.707248  (41.878370307, -87.707248137)  \n",
      "9   41.749414 -87.730447  (41.749414464, -87.730446597)  \n",
      "10        NaN        NaN                           None  \n",
      "11  41.882984 -87.670719  (41.882984246, -87.670719218)  \n"
     ]
    }
   ],
   "source": [
    "query5 = \"SELECT * FROM CHICAGO_CRIME_DATA WHERE LOCATION_DESCRIPTION LIKE '%SCHOOL%'\"\n",
    "res5 = pd.read_sql(query5, con)\n",
    "print(res5)"
   ]
  },
  {
   "cell_type": "markdown",
   "metadata": {},
   "source": [
    "### Problem 6\n",
    "\n",
    "##### List the type of schools along with the average safety score for each type.\n"
   ]
  },
  {
   "cell_type": "code",
   "execution_count": 141,
   "metadata": {
    "tags": []
   },
   "outputs": [
    {
     "name": "stdout",
     "output_type": "stream",
     "text": [
      "   Safety_Icon  AVG(SAFETY_SCORE)\n",
      "0      Average          49.125000\n",
      "1       Strong          67.210000\n",
      "2  Very Strong          92.681818\n",
      "3    Very Weak          14.136364\n",
      "4         Weak          31.316129\n"
     ]
    }
   ],
   "source": [
    "query6 = \"SELECT SAFETY_ICON ,AVG(SAFETY_SCORE) FROM CHICAGO_PUBLIC_SCHOOLS WHERE SAFETY_ICON != 'NDA' GROUP BY SAFETY_ICON\"\n",
    "res6 = pd.read_sql(query6, con)\n",
    "print(res6)"
   ]
  },
  {
   "cell_type": "markdown",
   "metadata": {},
   "source": [
    "### Problem 7\n",
    "\n",
    "##### List 5 community areas with highest % of households below poverty line\n"
   ]
  },
  {
   "cell_type": "code",
   "execution_count": 158,
   "metadata": {
    "tags": []
   },
   "outputs": [
    {
     "name": "stdout",
     "output_type": "stream",
     "text": [
      "   PERCENT_HOUSEHOLDS_BELOW_POVERTY\n",
      "0                              56.5\n",
      "1                              51.2\n",
      "2                              46.6\n",
      "3                              43.1\n",
      "4                              42.4\n"
     ]
    }
   ],
   "source": [
    "query7 = \"SELECT PERCENT_HOUSEHOLDS_BELOW_POVERTY \\\n",
    "FROM CENSUS_DATA \\\n",
    "ORDER BY PERCENT_HOUSEHOLDS_BELOW_POVERTY DESC \\\n",
    "LIMIT 5\"\n",
    "res7 = pd.read_sql(query7, con)\n",
    "print(res7)"
   ]
  },
  {
   "cell_type": "markdown",
   "metadata": {},
   "source": [
    "### Problem 8\n",
    "\n",
    "##### Which community area is most crime prone? Display the coumminty area number only.\n"
   ]
  },
  {
   "cell_type": "code",
   "execution_count": 159,
   "metadata": {
    "tags": []
   },
   "outputs": [
    {
     "name": "stdout",
     "output_type": "stream",
     "text": [
      "   COMMUNITY_AREA_NUMBER  COUNT(*)\n",
      "0                   25.0        43\n"
     ]
    }
   ],
   "source": [
    "query8 = \"SELECT COMMUNITY_AREA_NUMBER,COUNT(*) \\\n",
    "FROM CHICAGO_CRIME_DATA  \\\n",
    "GROUP BY COMMUNITY_AREA_NUMBER \\\n",
    "ORDER BY COUNT(*) DESC \\\n",
    "LIMIT 1\"\n",
    "\n",
    "res8 = pd.read_sql(query8, con)\n",
    "print(res8)"
   ]
  },
  {
   "cell_type": "markdown",
   "metadata": {},
   "source": [
    "\n",
    "Double-click **here** for a hint\n",
    "\n",
    "<!--\n",
    "Query for the 'community area number' that has most number of incidents\n",
    "-->\n"
   ]
  },
  {
   "cell_type": "markdown",
   "metadata": {},
   "source": [
    "### Problem 9\n",
    "\n",
    "##### Use a sub-query to find the name of the community area with highest hardship index\n"
   ]
  },
  {
   "cell_type": "code",
   "execution_count": 167,
   "metadata": {
    "tags": []
   },
   "outputs": [
    {
     "name": "stdout",
     "output_type": "stream",
     "text": [
      "  COMMUNITY_AREA_NAME\n",
      "0           Riverdale\n"
     ]
    }
   ],
   "source": [
    "query9 = \"SELECT COMMUNITY_AREA_NAME, HARDSHIP FROM CENSUS_DATA WHERE HARDSHIP_INDEX = (SELECT MAX(HARDSHIP_INDEX) FROM CENSUS_DATA)\"\n",
    "res9 = pd.read_sql(query9, con)\n",
    "print(res9)"
   ]
  },
  {
   "cell_type": "markdown",
   "metadata": {},
   "source": [
    "### Problem 10\n",
    "\n",
    "##### Use a sub-query to determine the Community Area Name with most number of crimes?\n"
   ]
  },
  {
   "cell_type": "code",
   "execution_count": 164,
   "metadata": {
    "tags": []
   },
   "outputs": [
    {
     "name": "stdout",
     "output_type": "stream",
     "text": [
      "   HARDSHIP_INDEX  crime_count\n",
      "0            73.0           43\n"
     ]
    }
   ],
   "source": [
    "query10 = '''\n",
    "    SELECT cd.hardship_index, COUNT(*) AS crime_count\n",
    "    FROM CHICAGO_CRIME_DATA ccd\n",
    "    JOIN CENSUS_DATA cd\n",
    "    ON cd.COMMUNITY_AREA_NUMBER = ccd.COMMUNITY_AREA_NUMBER\n",
    "    GROUP BY cd.COMMUNITY_AREA_NAME\n",
    "    ORDER BY crime_count DESC\n",
    "    LIMIT 1;\n",
    "'''\n",
    "res10 = pd.read_sql(query10, con)\n",
    "print(res10)"
   ]
  },
  {
   "cell_type": "markdown",
   "metadata": {},
   "source": [
    "## Author(s)\n",
    "\n",
    "<h4> Hima Vasudevan </h4>\n",
    "<h4> Rav Ahuja </h4>\n",
    "<h4> Ramesh Sannreddy </h4>\n",
    "\n",
    "## Contribtuor(s)\n",
    "\n",
    "<h4> Malika Singla </h4>\n",
    "<h4>Abhishek Gagneja</h4>\n",
    "<!--\n",
    "## Change log\n",
    "\n",
    "| Date       | Version | Changed by        | Change Description                             |\n",
    "| ---------- | ------- | ----------------- | ---------------------------------------------- |\n",
    "|2023-10-18  | 2.6     | Abhishek Gagneja  | Modified instruction set |\n",
    "| 2022-03-04 | 2.5     | Lakshmi Holla     | Changed markdown.                   |\n",
    "| 2021-05-19 | 2.4     | Lakshmi Holla     | Updated the question                           |\n",
    "| 2021-04-30 | 2.3     | Malika Singla     | Updated the libraries                          |\n",
    "| 2021-01-15 | 2.2     | Rav Ahuja         | Removed problem 11 and fixed changelog         |\n",
    "| 2020-11-25 | 2.1     | Ramesh Sannareddy | Updated the problem statements, and datasets   |\n",
    "| 2020-09-05 | 2.0     | Malika Singla     | Moved lab to course repo in GitLab             |\n",
    "| 2018-07-18 | 1.0     | Rav Ahuja         | Several updates including loading instructions |\n",
    "| 2018-05-04 | 0.1     | Hima Vasudevan    | Created initial version                        |\n",
    "-->\n",
    "## <h3 align=\"center\"> © IBM Corporation 2023. All rights reserved. <h3/>\n"
   ]
  }
 ],
 "metadata": {
  "kernelspec": {
   "display_name": "Python",
   "language": "python",
   "name": "conda-env-python-py"
  },
  "language_info": {
   "codemirror_mode": {
    "name": "ipython",
    "version": 3
   },
   "file_extension": ".py",
   "mimetype": "text/x-python",
   "name": "python",
   "nbconvert_exporter": "python",
   "pygments_lexer": "ipython3",
   "version": "3.7.12"
  },
  "prev_pub_hash": "3c6bc487a66d442614b3071a4d6ea7fa0785b37ce97cb46f3bcb7a9010c84b6f"
 },
 "nbformat": 4,
 "nbformat_minor": 4
}
