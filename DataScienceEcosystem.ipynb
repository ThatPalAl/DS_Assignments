{
 "cells": [
  {
   "cell_type": "markdown",
   "id": "2f13b9a9-10c0-440a-b9c8-85e069435923",
   "metadata": {},
   "source": [
    "# Data Science Tools and Ecosystem"
   ]
  },
  {
   "cell_type": "markdown",
   "id": "98c19466-d4a1-441b-adc0-9b2e138229e5",
   "metadata": {},
   "source": [
    "In this notebook, Data Science Tools and Ecosystem are summarized."
   ]
  },
  {
   "cell_type": "markdown",
   "id": "051a2e7e-de03-4228-aa54-bdf1b208e10e",
   "metadata": {},
   "source": [
    "Some of the popular languages that Data Scientists use are:\n",
    "1. Python\n",
    "2. R\n",
    "3. Bash\n",
    "4. C++ / Java"
   ]
  },
  {
   "cell_type": "markdown",
   "id": "eae57964-3435-40b5-93e7-4837e2caf4db",
   "metadata": {},
   "source": [
    "Some of the commonly used libraries used by Data Scientists include:\n",
    "* Numpy\n",
    "* Pytorch\n",
    "* ggplot\n",
    "* pandas\n",
    "* keras\n",
    "* matplotlib\n",
    "   "
   ]
  },
  {
   "cell_type": "markdown",
   "id": "522c439d-209d-4e89-894f-0317e7861d24",
   "metadata": {},
   "source": [
    "| Data Science Tools       |\n",
    "|--------------------------|\n",
    "| Jupyter Notebook         |\n",
    "| RStudio                  |\n",
    "| Apache Zeppelin          |"
   ]
  },
  {
   "cell_type": "markdown",
   "id": "573df9a0-bb0f-4a4d-baf0-054bd23b7831",
   "metadata": {},
   "source": [
    "### Below are a few examples of evaluating arithmetic expressions in Python."
   ]
  },
  {
   "cell_type": "code",
   "execution_count": 4,
   "id": "5926c475-8cf9-464e-9351-03fb23e0bd3e",
   "metadata": {},
   "outputs": [
    {
     "data": {
      "text/plain": [
       "17"
      ]
     },
     "execution_count": 4,
     "metadata": {},
     "output_type": "execute_result"
    }
   ],
   "source": [
    "#This a simple arithmetic expression to mutiply then add integers\n",
    "(3*4)+5"
   ]
  },
  {
   "cell_type": "code",
   "execution_count": 5,
   "id": "1e4bf67a-0e8c-4f5c-9db0-7bb0a0ec6a23",
   "metadata": {},
   "outputs": [
    {
     "data": {
      "text/plain": [
       "3.3333333333333335"
      ]
     },
     "execution_count": 5,
     "metadata": {},
     "output_type": "execute_result"
    }
   ],
   "source": [
    "minutes = 200\n",
    "hours = minutes / 60\n",
    "hours"
   ]
  },
  {
   "cell_type": "markdown",
   "id": "367c149a-0326-4b73-9d98-a1b332b1e1b5",
   "metadata": {},
   "source": [
    "## Author\n",
    "Alexander "
   ]
  }
 ],
 "metadata": {
  "kernelspec": {
   "display_name": "Python [conda env:fa_env] *",
   "language": "python",
   "name": "conda-env-fa_env-py"
  },
  "language_info": {
   "codemirror_mode": {
    "name": "ipython",
    "version": 3
   },
   "file_extension": ".py",
   "mimetype": "text/x-python",
   "name": "python",
   "nbconvert_exporter": "python",
   "pygments_lexer": "ipython3",
   "version": "3.12.2"
  }
 },
 "nbformat": 4,
 "nbformat_minor": 5
}
